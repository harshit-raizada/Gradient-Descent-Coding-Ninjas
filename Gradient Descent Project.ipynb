{
 "cells": [
  {
   "cell_type": "code",
   "execution_count": 6,
   "id": "b802a67f",
   "metadata": {},
   "outputs": [],
   "source": [
    "from sklearn import datasets"
   ]
  },
  {
   "cell_type": "code",
   "execution_count": 14,
   "id": "144f3e2b",
   "metadata": {},
   "outputs": [],
   "source": [
    "boston = datasets.load_boston()"
   ]
  },
  {
   "cell_type": "code",
   "execution_count": 68,
   "id": "b64a7f54",
   "metadata": {},
   "outputs": [],
   "source": [
    "x = boston.data.reshape(-1,1)\n",
    "y = boston.target"
   ]
  },
  {
   "cell_type": "code",
   "execution_count": 69,
   "id": "58522dfa",
   "metadata": {},
   "outputs": [
    {
     "data": {
      "text/plain": [
       "(6578, 1)"
      ]
     },
     "execution_count": 69,
     "metadata": {},
     "output_type": "execute_result"
    }
   ],
   "source": [
    "x.shape"
   ]
  },
  {
   "cell_type": "code",
   "execution_count": 70,
   "id": "28786b85",
   "metadata": {},
   "outputs": [
    {
     "data": {
      "text/plain": [
       "(506,)"
      ]
     },
     "execution_count": 70,
     "metadata": {},
     "output_type": "execute_result"
    }
   ],
   "source": [
    "y.shape"
   ]
  },
  {
   "cell_type": "code",
   "execution_count": 71,
   "id": "e9fe6be4",
   "metadata": {},
   "outputs": [],
   "source": [
    "import pandas as pd"
   ]
  },
  {
   "cell_type": "code",
   "execution_count": 72,
   "id": "a3910715",
   "metadata": {},
   "outputs": [
    {
     "data": {
      "text/html": [
       "<div>\n",
       "<style scoped>\n",
       "    .dataframe tbody tr th:only-of-type {\n",
       "        vertical-align: middle;\n",
       "    }\n",
       "\n",
       "    .dataframe tbody tr th {\n",
       "        vertical-align: top;\n",
       "    }\n",
       "\n",
       "    .dataframe thead th {\n",
       "        text-align: right;\n",
       "    }\n",
       "</style>\n",
       "<table border=\"1\" class=\"dataframe\">\n",
       "  <thead>\n",
       "    <tr style=\"text-align: right;\">\n",
       "      <th></th>\n",
       "      <th>0</th>\n",
       "    </tr>\n",
       "  </thead>\n",
       "  <tbody>\n",
       "    <tr>\n",
       "      <th>0</th>\n",
       "      <td>0.00632</td>\n",
       "    </tr>\n",
       "    <tr>\n",
       "      <th>1</th>\n",
       "      <td>18.00000</td>\n",
       "    </tr>\n",
       "    <tr>\n",
       "      <th>2</th>\n",
       "      <td>2.31000</td>\n",
       "    </tr>\n",
       "    <tr>\n",
       "      <th>3</th>\n",
       "      <td>0.00000</td>\n",
       "    </tr>\n",
       "    <tr>\n",
       "      <th>4</th>\n",
       "      <td>0.53800</td>\n",
       "    </tr>\n",
       "    <tr>\n",
       "      <th>...</th>\n",
       "      <td>...</td>\n",
       "    </tr>\n",
       "    <tr>\n",
       "      <th>6573</th>\n",
       "      <td>1.00000</td>\n",
       "    </tr>\n",
       "    <tr>\n",
       "      <th>6574</th>\n",
       "      <td>273.00000</td>\n",
       "    </tr>\n",
       "    <tr>\n",
       "      <th>6575</th>\n",
       "      <td>21.00000</td>\n",
       "    </tr>\n",
       "    <tr>\n",
       "      <th>6576</th>\n",
       "      <td>396.90000</td>\n",
       "    </tr>\n",
       "    <tr>\n",
       "      <th>6577</th>\n",
       "      <td>7.88000</td>\n",
       "    </tr>\n",
       "  </tbody>\n",
       "</table>\n",
       "<p>6578 rows × 1 columns</p>\n",
       "</div>"
      ],
      "text/plain": [
       "              0\n",
       "0       0.00632\n",
       "1      18.00000\n",
       "2       2.31000\n",
       "3       0.00000\n",
       "4       0.53800\n",
       "...         ...\n",
       "6573    1.00000\n",
       "6574  273.00000\n",
       "6575   21.00000\n",
       "6576  396.90000\n",
       "6577    7.88000\n",
       "\n",
       "[6578 rows x 1 columns]"
      ]
     },
     "execution_count": 72,
     "metadata": {},
     "output_type": "execute_result"
    }
   ],
   "source": [
    "df = pd.DataFrame(x)\n",
    "df"
   ]
  },
  {
   "cell_type": "code",
   "execution_count": 20,
   "id": "1b04d14b",
   "metadata": {},
   "outputs": [],
   "source": [
    "from sklearn import model_selection"
   ]
  },
  {
   "cell_type": "code",
   "execution_count": 21,
   "id": "78a24a42",
   "metadata": {},
   "outputs": [],
   "source": [
    "x_train, x_test, y_train, y_test = model_selection.train_test_split(x, y)"
   ]
  },
  {
   "cell_type": "code",
   "execution_count": 22,
   "id": "8c63cbb4",
   "metadata": {},
   "outputs": [
    {
     "data": {
      "text/plain": [
       "(379, 13)"
      ]
     },
     "execution_count": 22,
     "metadata": {},
     "output_type": "execute_result"
    }
   ],
   "source": [
    "x_train.shape"
   ]
  },
  {
   "cell_type": "code",
   "execution_count": 23,
   "id": "7a46df53",
   "metadata": {},
   "outputs": [
    {
     "data": {
      "text/plain": [
       "(127, 13)"
      ]
     },
     "execution_count": 23,
     "metadata": {},
     "output_type": "execute_result"
    }
   ],
   "source": [
    "x_test.shape"
   ]
  },
  {
   "cell_type": "code",
   "execution_count": 24,
   "id": "78aa4952",
   "metadata": {},
   "outputs": [],
   "source": [
    "from sklearn.linear_model import LinearRegression"
   ]
  },
  {
   "cell_type": "code",
   "execution_count": 25,
   "id": "e3da542a",
   "metadata": {},
   "outputs": [],
   "source": [
    "alg1 = LinearRegression()"
   ]
  },
  {
   "cell_type": "code",
   "execution_count": 26,
   "id": "355c0d3d",
   "metadata": {},
   "outputs": [
    {
     "data": {
      "text/plain": [
       "LinearRegression()"
      ]
     },
     "execution_count": 26,
     "metadata": {},
     "output_type": "execute_result"
    }
   ],
   "source": [
    "alg1"
   ]
  },
  {
   "cell_type": "code",
   "execution_count": 27,
   "id": "5deeba05",
   "metadata": {},
   "outputs": [
    {
     "data": {
      "text/plain": [
       "LinearRegression()"
      ]
     },
     "execution_count": 27,
     "metadata": {},
     "output_type": "execute_result"
    }
   ],
   "source": [
    "alg1.fit(x_train, y_train)"
   ]
  },
  {
   "cell_type": "code",
   "execution_count": 28,
   "id": "97d035b3",
   "metadata": {},
   "outputs": [],
   "source": [
    "y_pred = alg1.predict(x_test)"
   ]
  },
  {
   "cell_type": "code",
   "execution_count": 29,
   "id": "7fb13e4e",
   "metadata": {},
   "outputs": [
    {
     "data": {
      "text/plain": [
       "array([29.03135813, 23.39898905, 13.41561481, 15.67359905, 21.17672873,\n",
       "       29.01983155, 17.56504446, 33.91809785, 30.16610771, 14.45551135,\n",
       "       12.57275433, 27.02488141, 35.92907773,  7.27024929, 20.49165798,\n",
       "       25.48060331, 21.70822305, 24.30515066, 25.10075817, 14.40047992,\n",
       "       18.75132503, 22.15247036, 31.24308667, 20.69578437, 21.02371472,\n",
       "       27.77304848, 26.82360242, 26.77882783,  8.38731995, 32.18771742,\n",
       "       20.80192823, 21.19923207, 42.7353653 , 38.54874323, 19.79622813,\n",
       "       16.13366526, 19.55697308, 26.81109555, 18.22252766, 21.41109142,\n",
       "       22.69376052, 17.86753532, 16.56309007, 22.15986044, -4.57270637,\n",
       "       17.8583051 , 21.31027212, 20.43542097, 15.11344627, 23.46758401,\n",
       "       23.92165655, 30.16995868,  7.16268841, 23.8829068 , 34.96117836,\n",
       "       23.58978697, 18.41732299, 21.1713969 , 33.64062306, 18.7023045 ,\n",
       "       39.25485071, 20.15912566, 25.31944878, 24.13373047, 14.5698    ,\n",
       "       17.53342225, 20.46251418, 32.44738768, 39.90113135, 31.5141766 ,\n",
       "       16.69459138, 35.23373635, 10.4264811 , 28.16078565, 23.01167683,\n",
       "       22.87362744, 25.92545865, 27.42224134, 16.83666728, 33.61329713,\n",
       "       38.86527114, 28.7404487 , 36.69072611, 20.13327717, 18.71169083,\n",
       "       19.39115548, 19.06444843, 24.69076077, 31.09819032, 12.02571033,\n",
       "       20.54546136, 15.44457108, 23.644603  , 12.46086348, 29.68120354,\n",
       "       20.56427659, 18.08026972, 23.03847294, 20.61566338, 22.06531761,\n",
       "       21.34674404, 21.06825339, 28.18528552, 23.93299   , 27.15443015,\n",
       "       41.83674846, 41.55962634, 14.25240798, 21.31350593, 25.96569552,\n",
       "       25.99938576, 21.38574235, 25.30611171, 16.72130901, 23.33282959,\n",
       "       23.71529817, 18.50800907, 21.62262404, 18.72115665, 21.03620232,\n",
       "       20.11212493, 26.47405171, 16.01173593, 21.74479406, 18.7427152 ,\n",
       "       13.97319455, 24.59181466])"
      ]
     },
     "execution_count": 29,
     "metadata": {},
     "output_type": "execute_result"
    }
   ],
   "source": [
    "y_pred"
   ]
  },
  {
   "cell_type": "code",
   "execution_count": 30,
   "id": "3ef54faa",
   "metadata": {},
   "outputs": [
    {
     "data": {
      "text/plain": [
       "0.7914588086625111"
      ]
     },
     "execution_count": 30,
     "metadata": {},
     "output_type": "execute_result"
    }
   ],
   "source": [
    "alg1.score(x_test, y_test)"
   ]
  },
  {
   "cell_type": "code",
   "execution_count": 31,
   "id": "342bd4c6",
   "metadata": {},
   "outputs": [
    {
     "data": {
      "text/plain": [
       "0.7190751076476192"
      ]
     },
     "execution_count": 31,
     "metadata": {},
     "output_type": "execute_result"
    }
   ],
   "source": [
    "alg1.score(x_train, y_train)"
   ]
  },
  {
   "cell_type": "code",
   "execution_count": 32,
   "id": "ac1a0839",
   "metadata": {},
   "outputs": [],
   "source": [
    "import matplotlib.pyplot as plt"
   ]
  },
  {
   "cell_type": "code",
   "execution_count": 76,
   "id": "a7efc9a0",
   "metadata": {},
   "outputs": [
    {
     "data": {
      "image/png": "[encoded data removed]",
      "text/plain": [
       "<Figure size 432x288 with 1 Axes>"
      ]
     },
     "metadata": {
      "needs_background": "light"
     },
     "output_type": "display_data"
    }
   ],
   "source": [
    "plt.scatter(y_test, y_pred)\n",
    "plt.axis([0, 60, 0, 50])\n",
    "plt.show()"
   ]
  },
  {
   "cell_type": "code",
   "execution_count": 80,
   "id": "34b3e24b",
   "metadata": {},
   "outputs": [],
   "source": [
    "import numpy as np\n",
    "data=np.loadtxt('train.csv', delimiter=',')"
   ]
  },
  {
   "cell_type": "code",
   "execution_count": 82,
   "id": "b7bf3918",
   "metadata": {},
   "outputs": [
    {
     "data": {
      "text/plain": [
       "(379, 14)"
      ]
     },
     "execution_count": 82,
     "metadata": {},
     "output_type": "execute_result"
    }
   ],
   "source": [
    "data.shape"
   ]
  },
  {
   "cell_type": "code",
   "execution_count": 121,
   "id": "75c39881",
   "metadata": {},
   "outputs": [
    {
     "name": "stdout",
     "output_type": "stream",
     "text": [
      "(379, 1)\n",
      "(379,)\n"
     ]
    }
   ],
   "source": [
    "x = data[:, 0].reshape(-1, 1)\n",
    "y = data[:, 1]\n",
    "print(x.shape)\n",
    "print(y.shape)"
   ]
  },
  {
   "cell_type": "code",
   "execution_count": 122,
   "id": "48ad5528",
   "metadata": {},
   "outputs": [
    {
     "name": "stdout",
     "output_type": "stream",
     "text": [
      "(284, 1)\n",
      "(95, 1)\n"
     ]
    }
   ],
   "source": [
    "from sklearn import model_selection\n",
    "x_train, x_test, y_train, y_test=model_selection.train_test_split(x,y)\n",
    "print(x_train.shape)\n",
    "print(x_test.shape)"
   ]
  },
  {
   "cell_type": "code",
   "execution_count": 123,
   "id": "2379df0b",
   "metadata": {},
   "outputs": [
    {
     "name": "stdout",
     "output_type": "stream",
     "text": [
      "Value of m:  -0.19133587022365556\n",
      "Value of c:  0.020636677527961292\n",
      "Value of Score for training data:  0.04248459924286796\n",
      "Value of Score for testing data:  0.024597353680366085\n"
     ]
    }
   ],
   "source": [
    "from sklearn.linear_model import LinearRegression\n",
    "alg1=LinearRegression()\n",
    "alg1.fit(x_train,y_train)\n",
    "print('Value of m: ', alg1.coef_[0])\n",
    "print('Value of c: ', alg1.intercept_)\n",
    "print('Value of Score for training data: ', alg1.score(x_train, y_train))\n",
    "print('Value of Score for testing data: ', alg1.score(x_test, y_test))"
   ]
  },
  {
   "cell_type": "code",
   "execution_count": 124,
   "id": "2182aaa4",
   "metadata": {},
   "outputs": [],
   "source": [
    "import matplotlib.pyplot as plt"
   ]
  },
  {
   "cell_type": "code",
   "execution_count": 157,
   "id": "b39cf28d",
   "metadata": {},
   "outputs": [
    {
     "data": {
      "image/png": "[encoded data removed]",
      "text/plain": [
       "<Figure size 432x288 with 1 Axes>"
      ]
     },
     "metadata": {
      "needs_background": "light"
     },
     "output_type": "display_data"
    }
   ],
   "source": [
    "m = alg1.coef_[0]\n",
    "c = alg1.intercept_\n",
    "x_line = np.arange(0, 15, 0.1)\n",
    "y_line = m * x_line + c\n",
    "train_1d = x_train.reshape(284)\n",
    "plt.plot(x_line, y_line, 'r')\n",
    "plt.scatter(x_train, y_train)\n",
    "plt.show()"
   ]
  },
  {
   "cell_type": "code",
   "execution_count": 152,
   "id": "87e94518",
   "metadata": {},
   "outputs": [
    {
     "data": {
      "image/png": "[encoded data removed]",
      "text/plain": [
       "<Figure size 432x288 with 1 Axes>"
      ]
     },
     "metadata": {
      "needs_background": "light"
     },
     "output_type": "display_data"
    }
   ],
   "source": [
    "m = alg1.coef_[0]\n",
    "c = alg1.intercept_\n",
    "x_line = np.arange(0, 10, 0.1)\n",
    "y_line = m * x_line + c\n",
    "test_1d = x_test.reshape(95)\n",
    "plt.plot(x_line, y_line, 'r')\n",
    "plt.scatter(x_test, y_test)\n",
    "plt.show()"
   ]
  },
  {
   "cell_type": "code",
   "execution_count": 195,
   "id": "79dd0b2c",
   "metadata": {},
   "outputs": [],
   "source": [
    "import numpy as np"
   ]
  },
  {
   "cell_type": "code",
   "execution_count": 223,
   "id": "60653579",
   "metadata": {},
   "outputs": [],
   "source": [
    "data = np.loadtxt('test.csv', delimiter = ',')"
   ]
  },
  {
   "cell_type": "code",
   "execution_count": 224,
   "id": "8c0ace41",
   "metadata": {},
   "outputs": [
    {
     "data": {
      "text/plain": [
       "array([[ 2.91816626, -0.48772236,  1.01599907, ...,  0.80657583,\n",
       "        -1.59755122,  1.04106182],\n",
       "       [-0.40339151, -0.48772236,  0.40609801, ..., -1.13534664,\n",
       "         0.44105193, -0.89473812],\n",
       "       [-0.4131781 , -0.48772236,  0.11573841, ...,  1.17646583,\n",
       "         0.44105193, -0.50084979],\n",
       "       ...,\n",
       "       [-0.41001449,  2.08745172, -1.37837329, ..., -0.0719129 ,\n",
       "         0.39094481, -0.68167397],\n",
       "       [-0.40317611, -0.48772236, -0.37597609, ...,  1.13022958,\n",
       "         0.34007019,  0.20142086],\n",
       "       [-0.13356344, -0.48772236,  1.2319449 , ..., -1.73641788,\n",
       "        -2.93893082,  0.48877712]])"
      ]
     },
     "execution_count": 224,
     "metadata": {},
     "output_type": "execute_result"
    }
   ],
   "source": [
    "data"
   ]
  },
  {
   "cell_type": "code",
   "execution_count": 225,
   "id": "5f26f182",
   "metadata": {},
   "outputs": [
    {
     "name": "stdout",
     "output_type": "stream",
     "text": [
      "(127, 1)\n",
      "(127,)\n"
     ]
    }
   ],
   "source": [
    "x = data[:, 0].reshape(-1, 1)\n",
    "y = data[:, 1]\n",
    "print(x.shape)\n",
    "print(y.shape)"
   ]
  },
  {
   "cell_type": "code",
   "execution_count": 226,
   "id": "49b0f7cc",
   "metadata": {},
   "outputs": [],
   "source": [
    "from sklearn import model_selection"
   ]
  },
  {
   "cell_type": "code",
   "execution_count": 227,
   "id": "27494756",
   "metadata": {},
   "outputs": [],
   "source": [
    "x_train, x_test, y_train, y_test = model_selection.train_test_split(x, y)"
   ]
  },
  {
   "cell_type": "code",
   "execution_count": 228,
   "id": "1cdbc44a",
   "metadata": {},
   "outputs": [
    {
     "name": "stdout",
     "output_type": "stream",
     "text": [
      "(95, 1)\n",
      "(32, 1)\n"
     ]
    }
   ],
   "source": [
    "print(x_train.shape)\n",
    "print(x_test.shape)"
   ]
  },
  {
   "cell_type": "code",
   "execution_count": 229,
   "id": "3308f788",
   "metadata": {},
   "outputs": [],
   "source": [
    "from sklearn.linear_model import LinearRegression"
   ]
  },
  {
   "cell_type": "code",
   "execution_count": 230,
   "id": "e4072e0a",
   "metadata": {},
   "outputs": [],
   "source": [
    "alg1 = LinearRegression()"
   ]
  },
  {
   "cell_type": "code",
   "execution_count": 231,
   "id": "07336bb2",
   "metadata": {},
   "outputs": [
    {
     "data": {
      "text/plain": [
       "LinearRegression()"
      ]
     },
     "execution_count": 231,
     "metadata": {},
     "output_type": "execute_result"
    }
   ],
   "source": [
    "alg1.fit(x_train, y_train)"
   ]
  },
  {
   "cell_type": "code",
   "execution_count": 232,
   "id": "7d59f73a",
   "metadata": {},
   "outputs": [
    {
     "name": "stdout",
     "output_type": "stream",
     "text": [
      "Value of m:  -0.29467831021829266\n",
      "Value of c:  0.02728410748394751\n",
      "Score of Training Data:  0.04479154770906679\n",
      "Score of Testing Data:  -0.025505454038019515\n"
     ]
    }
   ],
   "source": [
    "print('Value of m: ', alg1.coef_[0])\n",
    "print('Value of c: ', alg1.intercept_)\n",
    "print('Score of Training Data: ', alg1.score(x_train, y_train))\n",
    "print('Score of Testing Data: ', alg1.score(x_test, y_test))"
   ]
  },
  {
   "cell_type": "code",
   "execution_count": 233,
   "id": "39910af7",
   "metadata": {},
   "outputs": [
    {
     "data": {
      "image/png": "[encoded data removed]",
      "text/plain": [
       "<Figure size 432x288 with 1 Axes>"
      ]
     },
     "metadata": {
      "needs_background": "light"
     },
     "output_type": "display_data"
    }
   ],
   "source": [
    "import matplotlib.pyplot as plt\n",
    "m = alg1.coef_[0]\n",
    "c = alg1.intercept_\n",
    "x_line = np.arange(0, 50, 0.1)\n",
    "y_line = m * x_line + c\n",
    "\n",
    "plt.scatter(x_test, y_test)\n",
    "plt.plot(x_line, y_line, 'r')\n",
    "plt.show()"
   ]
  },
  {
   "cell_type": "code",
   "execution_count": 296,
   "id": "e194555c",
   "metadata": {},
   "outputs": [],
   "source": [
    "def run():\n",
    "    data = np.loadtxt('train.csv', delimiter=',')\n",
    "    learning_rate = 0.1\n",
    "    num_iterations = 10\n",
    "    m, c = gd(data, learning_rate, num_iterations)\n",
    "    print(m, c)"
   ]
  },
  {
   "cell_type": "code",
   "execution_count": 297,
   "id": "e19695ff",
   "metadata": {},
   "outputs": [],
   "source": [
    "def gd(points, learning_rate, num_iterations):\n",
    "    m = 0\n",
    "    c = 0\n",
    "    for i in range(num_iterations):\n",
    "        m, c = step_gradient(points, learning_rate, m, c)\n",
    "        print(i, 'Cost: ', cost(points, m, c))\n",
    "    return m, c"
   ]
  },
  {
   "cell_type": "code",
   "execution_count": 298,
   "id": "4a719d87",
   "metadata": {},
   "outputs": [],
   "source": [
    "def cost(points, m, c):\n",
    "    total_cost = 0\n",
    "    M = len(points)\n",
    "    for i in range(M):\n",
    "        x = points[i, 0]\n",
    "        y = points[i, 1]\n",
    "        total_cost += (1/M)*((y - m*x - c)**2)\n",
    "    return total_cost"
   ]
  },
  {
   "cell_type": "code",
   "execution_count": 299,
   "id": "2fe124a3",
   "metadata": {},
   "outputs": [],
   "source": [
    "def step_gradient(points, learning_rate, m, c):\n",
    "    m_slope = 0\n",
    "    c_slope = 0\n",
    "    M = len(points)\n",
    "    for i in range(M):\n",
    "        x = points[i, 0]\n",
    "        y = points[i, 1]\n",
    "        m_slope += (-2/M)*(y - m * x - c)*x\n",
    "        c_slope += (-2/M)*(y - m * x - c)\n",
    "    new_m = m - learning_rate * m_slope\n",
    "    new_c = c - learning_rate * c_slope\n",
    "    return new_m, new_c"
   ]
  },
  {
   "cell_type": "code",
   "execution_count": 300,
   "id": "c8b000b0",
   "metadata": {},
   "outputs": [
    {
     "name": "stdout",
     "output_type": "stream",
     "text": [
      "0 Cost:  0.9833811253000029\n",
      "1 Cost:  0.974060683846891\n",
      "2 Cost:  0.9684945649565948\n",
      "3 Cost:  0.9651700560093838\n",
      "4 Cost:  0.9631841177211139\n",
      "5 Cost:  0.9619976069992288\n",
      "6 Cost:  0.9612886008325274\n",
      "7 Cost:  0.960864854604541\n",
      "8 Cost:  0.9606115491456609\n",
      "9 Cost:  0.9604600982492526\n",
      "-0.1706064820897518 0.00459000036867052\n"
     ]
    }
   ],
   "source": [
    "run()"
   ]
  }
 ],
 "metadata": {
  "kernelspec": {
   "display_name": "Python 3",
   "language": "python",
   "name": "python3"
  },
  "language_info": {
   "codemirror_mode": {
    "name": "ipython",
    "version": 3
   },
   "file_extension": ".py",
   "mimetype": "text/x-python",
   "name": "python",
   "nbconvert_exporter": "python",
   "pygments_lexer": "ipython3",
   "version": "3.8.8"
  }
 },
 "nbformat": 4,
 "nbformat_minor": 5
}
